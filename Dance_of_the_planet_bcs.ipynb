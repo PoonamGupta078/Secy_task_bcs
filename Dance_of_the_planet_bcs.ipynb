{
  "cells": [
    {
      "cell_type": "markdown",
      "metadata": {
        "id": "7FRr2fD6m7ru"
      },
      "source": []
    },
    {
      "cell_type": "markdown",
      "metadata": {
        "id": "nRQIdv-ym91o"
      },
      "source": [
        "Input Cell"
      ]
    },
    {
      "cell_type": "code",
      "execution_count": 28,
      "metadata": {
        "id": "qwHIEMfVm1go"
      },
      "outputs": [],
      "source": [
        "import numpy as np\n",
        "G=1\n",
        "#masses of two bodies\n",
        "\n",
        "m_1=2.0\n",
        "m_2=2.5\n",
        "#initial_position\n",
        "x1=np.array([3.0,2.0])\n",
        "x2=np.array([2.1,4.4])\n",
        "#initial velocities\n",
        "v1=np.array([4.0,-4.1])\n",
        "v2=np.array([6.0,-7.2])\n",
        "t_final=12\n"
      ]
    },
    {
      "cell_type": "markdown",
      "metadata": {
        "id": "LygZPZlDoOF1"
      },
      "source": [
        "Data Generation (Using ODE Solver)"
      ]
    },
    {
      "cell_type": "code",
      "execution_count": 29,
      "metadata": {
        "colab": {
          "base_uri": "https://localhost:8080/"
        },
        "id": "Gg9jHuvDoNyW",
        "outputId": "c9fc4121-0ce1-4729-9168-1dee305c9e8c"
      },
      "outputs": [
        {
          "output_type": "stream",
          "name": "stdout",
          "text": [
            "(1000,)\n"
          ]
        }
      ],
      "source": [
        "from scipy.integrate import solve_ivp\n",
        "def two_body_ode_solver(t,y):\n",
        "    r1 = y[0:2]\n",
        "    r2 = y[2:4]\n",
        "    v1 = y[4:6]\n",
        "    v2 = y[6:8]\n",
        "\n",
        "    r12 = r2 - r1\n",
        "    dist = np.linalg.norm(r12)\n",
        "    dist3 = dist**3\n",
        "\n",
        "    # Newton's law of gravitation\n",
        "    a1 = G * m_2 * r12 / dist3\n",
        "    a2 = -G * m_1 * r12 / dist3\n",
        "\n",
        "    dydt = np.concatenate([v1, v2, a1, a2])\n",
        "    return dydt\n",
        "    #Solve the ode\n",
        "\n",
        "y0 = np.concatenate([x1, x2, v1, v2])  # Initial state vector\n",
        "t_span=(0,t_final)\n",
        "t_eval=np.linspace(0,t_final,1000)\n",
        "sol = solve_ivp(two_body_ode_solver,t_span,y0, t_eval=t_eval, rtol=1e-9, atol=1e-9)\n",
        "sol\n",
        "print(t_eval.shape)"
      ]
    },
    {
      "cell_type": "markdown",
      "metadata": {
        "id": "wYwsO8nFuU4_"
      },
      "source": [
        "Split the dataset"
      ]
    },
    {
      "cell_type": "markdown",
      "metadata": {
        "id": "874JsmrmuUAQ"
      },
      "source": []
    },
    {
      "cell_type": "code",
      "source": [
        "import numpy as np\n",
        "import torch\n"
      ],
      "metadata": {
        "id": "fAX1c0X32HlK"
      },
      "execution_count": 30,
      "outputs": []
    },
    {
      "cell_type": "code",
      "execution_count": 31,
      "metadata": {
        "id": "mrevZafnwYpC"
      },
      "outputs": [],
      "source": [
        "# Example: 80% training, 20% testing\n",
        "train_frac = 0.8\n",
        "n_total = len(t_eval)\n",
        "n_train = int(n_total * train_frac)\n",
        "\n",
        "train_time = t_eval[:n_train].reshape(-1, 1)\n",
        "test_time = t_eval[n_train:].reshape(-1, 1)\n",
        "\n",
        "# Output: full state = [x1, y1, x2, y2, vx1, vy1, vx2, vy2]\n",
        "train_state = sol.y[:, :n_train].T   # shape: (n_train, 8)\n",
        "test_state = sol.y[:, n_train:].T    # shape: (n_test, 8)\n",
        "\n",
        "# Convert to PyTorch tensors\n",
        "X_train = torch.tensor(train_time, dtype=torch.float32)\n",
        "Y_train = torch.tensor(train_state, dtype=torch.float32)\n",
        "\n",
        "X_test = torch.tensor(test_time, dtype=torch.float32)\n",
        "Y_test = torch.tensor(test_state, dtype=torch.float32)\n"
      ]
    },
    {
      "cell_type": "code",
      "source": [
        "print(X_train.shape)\n",
        "print(Y_train.shape)\n",
        "print(X_test.shape)\n",
        "print(Y_test.shape)"
      ],
      "metadata": {
        "colab": {
          "base_uri": "https://localhost:8080/"
        },
        "id": "8wk9n3K_5bvd",
        "outputId": "7f180f77-ab13-4114-94ec-896e3b903a28"
      },
      "execution_count": 32,
      "outputs": [
        {
          "output_type": "stream",
          "name": "stdout",
          "text": [
            "torch.Size([800, 1])\n",
            "torch.Size([800, 8])\n",
            "torch.Size([200, 1])\n",
            "torch.Size([200, 8])\n"
          ]
        }
      ]
    },
    {
      "cell_type": "markdown",
      "source": [
        "define model"
      ],
      "metadata": {
        "id": "5mduUPKK5opR"
      }
    },
    {
      "cell_type": "code",
      "execution_count": 33,
      "metadata": {
        "id": "qnOXP-9ouYwZ"
      },
      "outputs": [],
      "source": [
        "import torch.nn as nn\n",
        "\n",
        "class TimeNet(nn.Module):\n",
        "    def __init__(self):\n",
        "        super().__init__()\n",
        "        self.net = nn.Sequential(\n",
        "            nn.Linear(1, 64),\n",
        "            nn.Tanh(),\n",
        "            nn.Linear(64, 64),\n",
        "            nn.Tanh(),\n",
        "            nn.Linear(64, 8)  # Output: [x1, y1, x2, y2, vx1, vy1, vx2, vy2]\n",
        "        )\n",
        "\n",
        "    def forward(self, t):\n",
        "        return self.net(t)\n"
      ]
    },
    {
      "cell_type": "code",
      "source": [],
      "metadata": {
        "id": "57wy4Yos58Ck"
      },
      "execution_count": null,
      "outputs": []
    },
    {
      "cell_type": "markdown",
      "source": [
        "ODE Loss"
      ],
      "metadata": {
        "id": "UUAXYs105-Og"
      }
    },
    {
      "cell_type": "code",
      "source": [
        "\n",
        "def ode_residual_loss(model, t):\n",
        "    # Ensure t requires gradients to compute derivatives w.r.t t\n",
        "    t = t.clone().detach().requires_grad_(True)\n",
        "\n",
        "    pred = model(t)  # shape: (n_samples, 8)\n",
        "\n",
        "    # Compute gradient of predictions w.r.t. input time t\n",
        "    pred_derivatives = []\n",
        "    for i in range(pred.shape[1]):\n",
        "        grad_pred_i = torch.autograd.grad(\n",
        "            outputs=pred[:, i],\n",
        "            inputs=t,\n",
        "            grad_outputs=torch.ones_like(pred[:, i]),\n",
        "            create_graph=True,\n",
        "            retain_graph=True,\n",
        "            only_inputs=True\n",
        "        )[0]  # Shape: (n_samples, 1)\n",
        "        pred_derivatives.append(grad_pred_i)\n",
        "\n",
        "    # Stack derivatives shape: (n_samples, 8, 1)\n",
        "    pred_derivatives = torch.stack(pred_derivatives, dim=1).squeeze(-1)  # shape: (n_samples, 8)\n",
        "\n",
        "    # Here, for example, check that derivative of position equals velocity\n",
        "    # pred[:, :4] are positions; pred[:, 4:] are velocities\n",
        "    pos_derivatives = pred_derivatives[:, :4]\n",
        "    vel = pred[:, 4:]\n",
        "\n",
        "    # Residual = difference between predicted velocity and derivative of position\n",
        "    residual = pos_derivatives - vel\n",
        "    ode_loss = torch.mean(residual**2)\n",
        "    return ode_loss"
      ],
      "metadata": {
        "id": "25QdILdN5oDn"
      },
      "execution_count": 34,
      "outputs": []
    },
    {
      "cell_type": "code",
      "source": [
        "\n",
        "\n",
        "\n",
        "\n",
        "\n",
        "# Initialize model, optimizer, and loss functions\n",
        "model = TimeNet()\n",
        "optimizer = torch.optim.Adam(model.parameters(), lr=1e-3)\n",
        "mae_loss_fn = nn.L1Loss()  # For Mean Absolute Error\n",
        "mse_loss_fn = nn.MSELoss()  # For general losses, if needed\n",
        "\n",
        "\n",
        "\n",
        "\n",
        "for epoch in range(20000):\n",
        "    model.train()\n",
        "\n",
        "    # Predicting using the model\n",
        "    pred_train = model(X_train)\n",
        "\n",
        "    # Calculate MAE loss\n",
        "    mae_loss = mae_loss_fn(pred_train, Y_train)\n",
        "\n",
        "    # Calculate ODE residual loss\n",
        "    ode_loss = ode_residual_loss(model, X_train)\n",
        "\n",
        "    # Combine both losses\n",
        "    total_loss = mae_loss + 0.1 * ode_loss  # Weighting ODE loss\n",
        "\n",
        "    optimizer.zero_grad()\n",
        "    total_loss.backward()\n",
        "    optimizer.step()\n",
        "\n",
        "    if epoch % 100 == 0:\n",
        "        print(f\"Epoch {epoch} | Total Loss: {total_loss.item():.6f} | MAE Loss: {mae_loss.item():.6f} | ODE Loss: {ode_loss.item():.6f}\")\n"
      ],
      "metadata": {
        "colab": {
          "base_uri": "https://localhost:8080/"
        },
        "id": "_dphlMpI3brh",
        "outputId": "a2a1fea9-0add-4f74-f729-adfd644d0b1b"
      },
      "execution_count": 39,
      "outputs": [
        {
          "output_type": "stream",
          "name": "stdout",
          "text": [
            "Epoch 0 | Total Loss: 15.625790 | MAE Loss: 15.617618 | ODE Loss: 0.081716\n",
            "Epoch 100 | Total Loss: 11.474283 | MAE Loss: 10.824642 | ODE Loss: 6.496406\n",
            "Epoch 200 | Total Loss: 8.599400 | MAE Loss: 8.045840 | ODE Loss: 5.535589\n",
            "Epoch 300 | Total Loss: 6.380915 | MAE Loss: 5.912914 | ODE Loss: 4.680010\n",
            "Epoch 400 | Total Loss: 4.700191 | MAE Loss: 4.309734 | ODE Loss: 3.904567\n",
            "Epoch 500 | Total Loss: 3.407672 | MAE Loss: 3.087323 | ODE Loss: 3.203493\n",
            "Epoch 600 | Total Loss: 2.434185 | MAE Loss: 2.169883 | ODE Loss: 2.643018\n",
            "Epoch 700 | Total Loss: 1.715097 | MAE Loss: 1.498649 | ODE Loss: 2.164487\n",
            "Epoch 800 | Total Loss: 1.181943 | MAE Loss: 1.006202 | ODE Loss: 1.757409\n",
            "Epoch 900 | Total Loss: 0.805194 | MAE Loss: 0.664853 | ODE Loss: 1.403413\n",
            "Epoch 1000 | Total Loss: 0.541928 | MAE Loss: 0.436051 | ODE Loss: 1.058775\n",
            "Epoch 1100 | Total Loss: 0.360678 | MAE Loss: 0.286712 | ODE Loss: 0.739657\n",
            "Epoch 1200 | Total Loss: 0.246463 | MAE Loss: 0.192774 | ODE Loss: 0.536894\n",
            "Epoch 1300 | Total Loss: 0.175011 | MAE Loss: 0.136127 | ODE Loss: 0.388845\n",
            "Epoch 1400 | Total Loss: 0.126190 | MAE Loss: 0.098869 | ODE Loss: 0.273214\n",
            "Epoch 1500 | Total Loss: 0.102831 | MAE Loss: 0.083357 | ODE Loss: 0.194746\n",
            "Epoch 1600 | Total Loss: 0.080426 | MAE Loss: 0.067069 | ODE Loss: 0.133569\n",
            "Epoch 1700 | Total Loss: 0.063817 | MAE Loss: 0.054030 | ODE Loss: 0.097875\n",
            "Epoch 1800 | Total Loss: 0.065710 | MAE Loss: 0.057785 | ODE Loss: 0.079247\n",
            "Epoch 1900 | Total Loss: 0.060642 | MAE Loss: 0.054424 | ODE Loss: 0.062178\n",
            "Epoch 2000 | Total Loss: 0.056820 | MAE Loss: 0.051686 | ODE Loss: 0.051339\n",
            "Epoch 2100 | Total Loss: 0.053262 | MAE Loss: 0.049017 | ODE Loss: 0.042444\n",
            "Epoch 2200 | Total Loss: 0.050242 | MAE Loss: 0.046497 | ODE Loss: 0.037454\n",
            "Epoch 2300 | Total Loss: 0.048797 | MAE Loss: 0.045542 | ODE Loss: 0.032557\n",
            "Epoch 2400 | Total Loss: 0.047335 | MAE Loss: 0.044397 | ODE Loss: 0.029383\n",
            "Epoch 2500 | Total Loss: 0.044717 | MAE Loss: 0.042121 | ODE Loss: 0.025961\n",
            "Epoch 2600 | Total Loss: 0.045019 | MAE Loss: 0.042612 | ODE Loss: 0.024065\n",
            "Epoch 2700 | Total Loss: 0.043241 | MAE Loss: 0.041039 | ODE Loss: 0.022011\n",
            "Epoch 2800 | Total Loss: 0.043423 | MAE Loss: 0.041391 | ODE Loss: 0.020320\n",
            "Epoch 2900 | Total Loss: 0.041704 | MAE Loss: 0.039819 | ODE Loss: 0.018847\n",
            "Epoch 3000 | Total Loss: 0.040382 | MAE Loss: 0.038589 | ODE Loss: 0.017931\n",
            "Epoch 3100 | Total Loss: 0.041947 | MAE Loss: 0.040266 | ODE Loss: 0.016805\n",
            "Epoch 3200 | Total Loss: 0.038139 | MAE Loss: 0.036556 | ODE Loss: 0.015839\n",
            "Epoch 3300 | Total Loss: 0.036178 | MAE Loss: 0.034688 | ODE Loss: 0.014894\n",
            "Epoch 3400 | Total Loss: 0.037730 | MAE Loss: 0.036291 | ODE Loss: 0.014389\n",
            "Epoch 3500 | Total Loss: 0.038666 | MAE Loss: 0.037293 | ODE Loss: 0.013734\n",
            "Epoch 3600 | Total Loss: 0.036487 | MAE Loss: 0.035187 | ODE Loss: 0.013002\n",
            "Epoch 3700 | Total Loss: 0.036159 | MAE Loss: 0.034918 | ODE Loss: 0.012411\n",
            "Epoch 3800 | Total Loss: 0.037439 | MAE Loss: 0.036240 | ODE Loss: 0.011991\n",
            "Epoch 3900 | Total Loss: 0.032595 | MAE Loss: 0.031443 | ODE Loss: 0.011523\n",
            "Epoch 4000 | Total Loss: 0.038751 | MAE Loss: 0.037618 | ODE Loss: 0.011324\n",
            "Epoch 4100 | Total Loss: 0.034642 | MAE Loss: 0.033554 | ODE Loss: 0.010881\n",
            "Epoch 4200 | Total Loss: 0.035394 | MAE Loss: 0.034351 | ODE Loss: 0.010425\n",
            "Epoch 4300 | Total Loss: 0.032474 | MAE Loss: 0.031457 | ODE Loss: 0.010169\n",
            "Epoch 4400 | Total Loss: 0.032931 | MAE Loss: 0.031950 | ODE Loss: 0.009813\n",
            "Epoch 4500 | Total Loss: 0.035337 | MAE Loss: 0.034391 | ODE Loss: 0.009455\n",
            "Epoch 4600 | Total Loss: 0.035508 | MAE Loss: 0.034584 | ODE Loss: 0.009243\n",
            "Epoch 4700 | Total Loss: 0.038003 | MAE Loss: 0.037102 | ODE Loss: 0.009012\n",
            "Epoch 4800 | Total Loss: 0.036657 | MAE Loss: 0.035723 | ODE Loss: 0.009342\n",
            "Epoch 4900 | Total Loss: 0.029859 | MAE Loss: 0.029001 | ODE Loss: 0.008582\n",
            "Epoch 5000 | Total Loss: 0.026273 | MAE Loss: 0.025470 | ODE Loss: 0.008032\n",
            "Epoch 5100 | Total Loss: 0.030198 | MAE Loss: 0.029404 | ODE Loss: 0.007940\n",
            "Epoch 5200 | Total Loss: 0.032697 | MAE Loss: 0.031932 | ODE Loss: 0.007647\n",
            "Epoch 5300 | Total Loss: 0.035587 | MAE Loss: 0.034832 | ODE Loss: 0.007543\n",
            "Epoch 5400 | Total Loss: 0.032619 | MAE Loss: 0.031873 | ODE Loss: 0.007465\n",
            "Epoch 5500 | Total Loss: 0.032665 | MAE Loss: 0.031930 | ODE Loss: 0.007354\n",
            "Epoch 5600 | Total Loss: 0.032430 | MAE Loss: 0.031698 | ODE Loss: 0.007320\n",
            "Epoch 5700 | Total Loss: 0.033789 | MAE Loss: 0.033069 | ODE Loss: 0.007192\n",
            "Epoch 5800 | Total Loss: 0.033702 | MAE Loss: 0.032985 | ODE Loss: 0.007163\n",
            "Epoch 5900 | Total Loss: 0.032828 | MAE Loss: 0.032131 | ODE Loss: 0.006964\n",
            "Epoch 6000 | Total Loss: 0.033508 | MAE Loss: 0.032818 | ODE Loss: 0.006897\n",
            "Epoch 6100 | Total Loss: 0.030980 | MAE Loss: 0.030304 | ODE Loss: 0.006752\n",
            "Epoch 6200 | Total Loss: 0.033080 | MAE Loss: 0.032405 | ODE Loss: 0.006752\n",
            "Epoch 6300 | Total Loss: 0.032104 | MAE Loss: 0.031438 | ODE Loss: 0.006660\n",
            "Epoch 6400 | Total Loss: 0.031238 | MAE Loss: 0.030576 | ODE Loss: 0.006618\n",
            "Epoch 6500 | Total Loss: 0.032292 | MAE Loss: 0.031642 | ODE Loss: 0.006495\n",
            "Epoch 6600 | Total Loss: 0.033765 | MAE Loss: 0.033109 | ODE Loss: 0.006560\n",
            "Epoch 6700 | Total Loss: 0.031619 | MAE Loss: 0.030966 | ODE Loss: 0.006525\n",
            "Epoch 6800 | Total Loss: 0.029700 | MAE Loss: 0.029046 | ODE Loss: 0.006540\n",
            "Epoch 6900 | Total Loss: 0.027077 | MAE Loss: 0.026445 | ODE Loss: 0.006320\n",
            "Epoch 7000 | Total Loss: 0.027874 | MAE Loss: 0.027250 | ODE Loss: 0.006244\n",
            "Epoch 7100 | Total Loss: 0.027288 | MAE Loss: 0.026670 | ODE Loss: 0.006179\n",
            "Epoch 7200 | Total Loss: 0.028611 | MAE Loss: 0.027988 | ODE Loss: 0.006236\n",
            "Epoch 7300 | Total Loss: 0.028361 | MAE Loss: 0.027747 | ODE Loss: 0.006133\n",
            "Epoch 7400 | Total Loss: 0.027314 | MAE Loss: 0.026698 | ODE Loss: 0.006167\n",
            "Epoch 7500 | Total Loss: 0.028251 | MAE Loss: 0.027629 | ODE Loss: 0.006212\n",
            "Epoch 7600 | Total Loss: 0.029020 | MAE Loss: 0.028405 | ODE Loss: 0.006155\n",
            "Epoch 7700 | Total Loss: 0.028950 | MAE Loss: 0.028338 | ODE Loss: 0.006114\n",
            "Epoch 7800 | Total Loss: 0.027699 | MAE Loss: 0.027096 | ODE Loss: 0.006031\n",
            "Epoch 7900 | Total Loss: 0.025731 | MAE Loss: 0.025123 | ODE Loss: 0.006076\n",
            "Epoch 8000 | Total Loss: 0.026600 | MAE Loss: 0.025997 | ODE Loss: 0.006028\n",
            "Epoch 8100 | Total Loss: 0.027119 | MAE Loss: 0.026519 | ODE Loss: 0.005991\n",
            "Epoch 8200 | Total Loss: 0.026830 | MAE Loss: 0.026231 | ODE Loss: 0.005992\n",
            "Epoch 8300 | Total Loss: 0.025088 | MAE Loss: 0.024482 | ODE Loss: 0.006061\n",
            "Epoch 8400 | Total Loss: 0.026650 | MAE Loss: 0.026043 | ODE Loss: 0.006069\n",
            "Epoch 8500 | Total Loss: 0.026909 | MAE Loss: 0.026306 | ODE Loss: 0.006036\n",
            "Epoch 8600 | Total Loss: 0.025781 | MAE Loss: 0.025182 | ODE Loss: 0.005990\n",
            "Epoch 8700 | Total Loss: 0.026853 | MAE Loss: 0.026253 | ODE Loss: 0.005995\n",
            "Epoch 8800 | Total Loss: 0.026978 | MAE Loss: 0.026377 | ODE Loss: 0.006001\n",
            "Epoch 8900 | Total Loss: 0.026918 | MAE Loss: 0.026313 | ODE Loss: 0.006042\n",
            "Epoch 9000 | Total Loss: 0.027165 | MAE Loss: 0.026567 | ODE Loss: 0.005982\n",
            "Epoch 9100 | Total Loss: 0.026143 | MAE Loss: 0.025547 | ODE Loss: 0.005966\n",
            "Epoch 9200 | Total Loss: 0.025888 | MAE Loss: 0.025290 | ODE Loss: 0.005982\n",
            "Epoch 9300 | Total Loss: 0.026281 | MAE Loss: 0.025682 | ODE Loss: 0.005988\n",
            "Epoch 9400 | Total Loss: 0.025959 | MAE Loss: 0.025365 | ODE Loss: 0.005943\n",
            "Epoch 9500 | Total Loss: 0.026014 | MAE Loss: 0.025419 | ODE Loss: 0.005952\n",
            "Epoch 9600 | Total Loss: 0.025690 | MAE Loss: 0.025097 | ODE Loss: 0.005932\n",
            "Epoch 9700 | Total Loss: 0.025199 | MAE Loss: 0.024607 | ODE Loss: 0.005921\n",
            "Epoch 9800 | Total Loss: 0.026042 | MAE Loss: 0.025454 | ODE Loss: 0.005882\n",
            "Epoch 9900 | Total Loss: 0.025944 | MAE Loss: 0.025355 | ODE Loss: 0.005894\n",
            "Epoch 10000 | Total Loss: 0.025764 | MAE Loss: 0.025166 | ODE Loss: 0.005979\n",
            "Epoch 10100 | Total Loss: 0.026310 | MAE Loss: 0.025715 | ODE Loss: 0.005944\n",
            "Epoch 10200 | Total Loss: 0.025742 | MAE Loss: 0.025144 | ODE Loss: 0.005975\n",
            "Epoch 10300 | Total Loss: 0.025350 | MAE Loss: 0.024750 | ODE Loss: 0.006001\n",
            "Epoch 10400 | Total Loss: 0.025714 | MAE Loss: 0.025120 | ODE Loss: 0.005936\n",
            "Epoch 10500 | Total Loss: 0.026246 | MAE Loss: 0.025650 | ODE Loss: 0.005959\n",
            "Epoch 10600 | Total Loss: 0.025528 | MAE Loss: 0.024933 | ODE Loss: 0.005952\n",
            "Epoch 10700 | Total Loss: 0.025167 | MAE Loss: 0.024577 | ODE Loss: 0.005899\n",
            "Epoch 10800 | Total Loss: 0.025272 | MAE Loss: 0.024677 | ODE Loss: 0.005947\n",
            "Epoch 10900 | Total Loss: 0.025202 | MAE Loss: 0.024606 | ODE Loss: 0.005961\n",
            "Epoch 11000 | Total Loss: 0.025576 | MAE Loss: 0.024980 | ODE Loss: 0.005953\n",
            "Epoch 11100 | Total Loss: 0.024679 | MAE Loss: 0.024083 | ODE Loss: 0.005955\n",
            "Epoch 11200 | Total Loss: 0.025296 | MAE Loss: 0.024695 | ODE Loss: 0.006006\n",
            "Epoch 11300 | Total Loss: 0.026024 | MAE Loss: 0.025429 | ODE Loss: 0.005954\n",
            "Epoch 11400 | Total Loss: 0.025537 | MAE Loss: 0.024943 | ODE Loss: 0.005937\n",
            "Epoch 11500 | Total Loss: 0.025297 | MAE Loss: 0.024698 | ODE Loss: 0.005993\n",
            "Epoch 11600 | Total Loss: 0.026028 | MAE Loss: 0.025434 | ODE Loss: 0.005941\n",
            "Epoch 11700 | Total Loss: 0.025024 | MAE Loss: 0.024429 | ODE Loss: 0.005943\n",
            "Epoch 11800 | Total Loss: 0.025798 | MAE Loss: 0.025202 | ODE Loss: 0.005965\n",
            "Epoch 11900 | Total Loss: 0.024961 | MAE Loss: 0.024360 | ODE Loss: 0.006008\n",
            "Epoch 12000 | Total Loss: 0.024465 | MAE Loss: 0.023871 | ODE Loss: 0.005933\n",
            "Epoch 12100 | Total Loss: 0.024373 | MAE Loss: 0.023774 | ODE Loss: 0.005987\n",
            "Epoch 12200 | Total Loss: 0.025233 | MAE Loss: 0.024640 | ODE Loss: 0.005935\n",
            "Epoch 12300 | Total Loss: 0.025237 | MAE Loss: 0.024634 | ODE Loss: 0.006026\n",
            "Epoch 12400 | Total Loss: 0.025395 | MAE Loss: 0.024803 | ODE Loss: 0.005921\n",
            "Epoch 12500 | Total Loss: 0.023218 | MAE Loss: 0.022623 | ODE Loss: 0.005954\n",
            "Epoch 12600 | Total Loss: 0.024567 | MAE Loss: 0.023972 | ODE Loss: 0.005945\n",
            "Epoch 12700 | Total Loss: 0.025121 | MAE Loss: 0.024525 | ODE Loss: 0.005956\n",
            "Epoch 12800 | Total Loss: 0.025453 | MAE Loss: 0.024851 | ODE Loss: 0.006018\n",
            "Epoch 12900 | Total Loss: 0.024714 | MAE Loss: 0.024118 | ODE Loss: 0.005957\n",
            "Epoch 13000 | Total Loss: 0.025005 | MAE Loss: 0.024403 | ODE Loss: 0.006014\n",
            "Epoch 13100 | Total Loss: 0.024594 | MAE Loss: 0.023994 | ODE Loss: 0.005999\n",
            "Epoch 13200 | Total Loss: 0.025239 | MAE Loss: 0.024642 | ODE Loss: 0.005969\n",
            "Epoch 13300 | Total Loss: 0.024800 | MAE Loss: 0.024200 | ODE Loss: 0.005997\n",
            "Epoch 13400 | Total Loss: 0.024902 | MAE Loss: 0.024298 | ODE Loss: 0.006042\n",
            "Epoch 13500 | Total Loss: 0.024992 | MAE Loss: 0.024388 | ODE Loss: 0.006034\n",
            "Epoch 13600 | Total Loss: 0.025251 | MAE Loss: 0.024642 | ODE Loss: 0.006081\n",
            "Epoch 13700 | Total Loss: 0.024262 | MAE Loss: 0.023661 | ODE Loss: 0.006019\n",
            "Epoch 13800 | Total Loss: 0.024746 | MAE Loss: 0.024144 | ODE Loss: 0.006020\n",
            "Epoch 13900 | Total Loss: 0.024371 | MAE Loss: 0.023763 | ODE Loss: 0.006081\n",
            "Epoch 14000 | Total Loss: 0.023276 | MAE Loss: 0.022668 | ODE Loss: 0.006077\n",
            "Epoch 14100 | Total Loss: 0.024418 | MAE Loss: 0.023810 | ODE Loss: 0.006080\n",
            "Epoch 14200 | Total Loss: 0.024769 | MAE Loss: 0.024163 | ODE Loss: 0.006063\n",
            "Epoch 14300 | Total Loss: 0.023782 | MAE Loss: 0.023176 | ODE Loss: 0.006059\n",
            "Epoch 14400 | Total Loss: 0.023782 | MAE Loss: 0.023170 | ODE Loss: 0.006122\n",
            "Epoch 14500 | Total Loss: 0.023343 | MAE Loss: 0.022735 | ODE Loss: 0.006078\n",
            "Epoch 14600 | Total Loss: 0.024080 | MAE Loss: 0.023472 | ODE Loss: 0.006079\n",
            "Epoch 14700 | Total Loss: 0.024561 | MAE Loss: 0.023951 | ODE Loss: 0.006102\n",
            "Epoch 14800 | Total Loss: 0.024537 | MAE Loss: 0.023932 | ODE Loss: 0.006052\n",
            "Epoch 14900 | Total Loss: 0.024320 | MAE Loss: 0.023716 | ODE Loss: 0.006041\n",
            "Epoch 15000 | Total Loss: 0.024213 | MAE Loss: 0.023603 | ODE Loss: 0.006102\n",
            "Epoch 15100 | Total Loss: 0.022622 | MAE Loss: 0.022013 | ODE Loss: 0.006096\n",
            "Epoch 15200 | Total Loss: 0.023810 | MAE Loss: 0.023198 | ODE Loss: 0.006119\n",
            "Epoch 15300 | Total Loss: 0.023862 | MAE Loss: 0.023253 | ODE Loss: 0.006090\n",
            "Epoch 15400 | Total Loss: 0.023951 | MAE Loss: 0.023339 | ODE Loss: 0.006121\n",
            "Epoch 15500 | Total Loss: 0.023942 | MAE Loss: 0.023335 | ODE Loss: 0.006072\n",
            "Epoch 15600 | Total Loss: 0.024485 | MAE Loss: 0.023874 | ODE Loss: 0.006111\n",
            "Epoch 15700 | Total Loss: 0.023440 | MAE Loss: 0.022827 | ODE Loss: 0.006129\n",
            "Epoch 15800 | Total Loss: 0.023538 | MAE Loss: 0.022928 | ODE Loss: 0.006097\n",
            "Epoch 15900 | Total Loss: 0.023236 | MAE Loss: 0.022625 | ODE Loss: 0.006116\n",
            "Epoch 16000 | Total Loss: 0.022971 | MAE Loss: 0.022351 | ODE Loss: 0.006201\n",
            "Epoch 16100 | Total Loss: 0.023422 | MAE Loss: 0.022808 | ODE Loss: 0.006133\n",
            "Epoch 16200 | Total Loss: 0.022380 | MAE Loss: 0.021765 | ODE Loss: 0.006147\n",
            "Epoch 16300 | Total Loss: 0.022579 | MAE Loss: 0.021958 | ODE Loss: 0.006206\n",
            "Epoch 16400 | Total Loss: 0.022985 | MAE Loss: 0.022374 | ODE Loss: 0.006112\n",
            "Epoch 16500 | Total Loss: 0.022643 | MAE Loss: 0.022030 | ODE Loss: 0.006130\n",
            "Epoch 16600 | Total Loss: 0.022959 | MAE Loss: 0.022338 | ODE Loss: 0.006215\n",
            "Epoch 16700 | Total Loss: 0.023396 | MAE Loss: 0.022780 | ODE Loss: 0.006157\n",
            "Epoch 16800 | Total Loss: 0.023184 | MAE Loss: 0.022569 | ODE Loss: 0.006147\n",
            "Epoch 16900 | Total Loss: 0.022661 | MAE Loss: 0.022039 | ODE Loss: 0.006226\n",
            "Epoch 17000 | Total Loss: 0.022573 | MAE Loss: 0.021957 | ODE Loss: 0.006165\n",
            "Epoch 17100 | Total Loss: 0.023185 | MAE Loss: 0.022570 | ODE Loss: 0.006153\n",
            "Epoch 17200 | Total Loss: 0.021688 | MAE Loss: 0.021067 | ODE Loss: 0.006216\n",
            "Epoch 17300 | Total Loss: 0.022449 | MAE Loss: 0.021834 | ODE Loss: 0.006153\n",
            "Epoch 17400 | Total Loss: 0.022889 | MAE Loss: 0.022271 | ODE Loss: 0.006171\n",
            "Epoch 17500 | Total Loss: 0.022794 | MAE Loss: 0.022178 | ODE Loss: 0.006162\n",
            "Epoch 17600 | Total Loss: 0.022251 | MAE Loss: 0.021635 | ODE Loss: 0.006157\n",
            "Epoch 17700 | Total Loss: 0.022282 | MAE Loss: 0.021662 | ODE Loss: 0.006196\n",
            "Epoch 17800 | Total Loss: 0.022579 | MAE Loss: 0.021966 | ODE Loss: 0.006127\n",
            "Epoch 17900 | Total Loss: 0.022181 | MAE Loss: 0.021565 | ODE Loss: 0.006161\n",
            "Epoch 18000 | Total Loss: 0.022528 | MAE Loss: 0.021909 | ODE Loss: 0.006197\n",
            "Epoch 18100 | Total Loss: 0.021844 | MAE Loss: 0.021233 | ODE Loss: 0.006109\n",
            "Epoch 18200 | Total Loss: 0.021755 | MAE Loss: 0.021143 | ODE Loss: 0.006121\n",
            "Epoch 18300 | Total Loss: 0.021873 | MAE Loss: 0.021255 | ODE Loss: 0.006178\n",
            "Epoch 18400 | Total Loss: 0.021799 | MAE Loss: 0.021189 | ODE Loss: 0.006099\n",
            "Epoch 18500 | Total Loss: 0.021652 | MAE Loss: 0.021039 | ODE Loss: 0.006131\n",
            "Epoch 18600 | Total Loss: 0.021464 | MAE Loss: 0.020850 | ODE Loss: 0.006142\n",
            "Epoch 18700 | Total Loss: 0.021804 | MAE Loss: 0.021198 | ODE Loss: 0.006053\n",
            "Epoch 18800 | Total Loss: 0.021860 | MAE Loss: 0.021251 | ODE Loss: 0.006087\n",
            "Epoch 18900 | Total Loss: 0.021521 | MAE Loss: 0.020908 | ODE Loss: 0.006136\n",
            "Epoch 19000 | Total Loss: 0.022665 | MAE Loss: 0.022061 | ODE Loss: 0.006039\n",
            "Epoch 19100 | Total Loss: 0.022070 | MAE Loss: 0.021464 | ODE Loss: 0.006060\n",
            "Epoch 19200 | Total Loss: 0.021401 | MAE Loss: 0.020787 | ODE Loss: 0.006135\n",
            "Epoch 19300 | Total Loss: 0.021314 | MAE Loss: 0.020707 | ODE Loss: 0.006063\n",
            "Epoch 19400 | Total Loss: 0.021636 | MAE Loss: 0.021024 | ODE Loss: 0.006113\n",
            "Epoch 19500 | Total Loss: 0.021905 | MAE Loss: 0.021287 | ODE Loss: 0.006176\n",
            "Epoch 19600 | Total Loss: 0.021835 | MAE Loss: 0.021226 | ODE Loss: 0.006091\n",
            "Epoch 19700 | Total Loss: 0.021963 | MAE Loss: 0.021350 | ODE Loss: 0.006130\n",
            "Epoch 19800 | Total Loss: 0.021814 | MAE Loss: 0.021198 | ODE Loss: 0.006157\n",
            "Epoch 19900 | Total Loss: 0.021645 | MAE Loss: 0.021035 | ODE Loss: 0.006102\n"
          ]
        }
      ]
    },
    {
      "cell_type": "code",
      "source": [
        "import torch\n",
        "\n",
        "T = 12.0  # final time you want to predict at\n",
        "with torch.no_grad():\n",
        "    model.eval()\n",
        "    t_test = torch.tensor([[T]], dtype=torch.float32)  # shape (1, 1)\n",
        "    pred = model(t_test)  # shape (1, 8), predicted [x1, y1, x2, y2, vx1, vy1, vx2, vy2]\n",
        "    final_pos = pred[0, :4].numpy()  # positions only\n",
        "\n",
        "    print(f\"Predicted final positions at T={T}:\")\n",
        "    print(f\"x1 = ({final_pos[0]:.4f}, {final_pos[1]:.4f})\")\n",
        "    print(f\"x2 = ({final_pos[2]:.4f}, {final_pos[3]:.4f})\")\n"
      ],
      "metadata": {
        "colab": {
          "base_uri": "https://localhost:8080/"
        },
        "id": "gOdfnrpm4hV7",
        "outputId": "3fe94ea9-1a0b-405f-c9bb-b3b78e355864"
      },
      "execution_count": 40,
      "outputs": [
        {
          "output_type": "stream",
          "name": "stdout",
          "text": [
            "Predicted final positions at T=12.0:\n",
            "x1 = (64.5062, -41.3250)\n",
            "x2 = (46.1081, -67.1890)\n"
          ]
        }
      ]
    },
    {
      "cell_type": "code",
      "source": [
        "import matplotlib.pyplot as plt\n",
        "\n",
        "model.eval()\n",
        "with torch.no_grad():\n",
        "    t_all = torch.tensor(X_train, dtype=torch.float32)\n",
        "    predictions = model(t_all).numpy()\n",
        "\n",
        "x1_pred, y1_pred = predictions[:, 0], predictions[:, 1]\n",
        "x2_pred, y2_pred = predictions[:, 2], predictions[:, 3]\n",
        "\n",
        "# predicted trajectory\n",
        "plt.figure(figsize=(8, 6))\n",
        "plt.plot(x1_pred, y1_pred, label=\"Body 1\", color='blue')\n",
        "plt.plot(x2_pred, y2_pred, label=\"Body 2\", color='red')\n",
        "plt.scatter(x1_pred[0], y1_pred[0], color='blue', marker='o', label='Start Body 1')\n",
        "plt.scatter(x2_pred[0], y2_pred[0], color='red', marker='o', label='Start Body 2')\n",
        "plt.xlabel(\"x\")\n",
        "plt.ylabel(\"y\")\n",
        "plt.title(\"Predicted Two-Body Trajectories (PINN)\")\n",
        "plt.legend()\n",
        "plt.grid(True)\n",
        "plt.axis(\"equal\")\n",
        "plt.show()"
      ],
      "metadata": {
        "colab": {
          "base_uri": "https://localhost:8080/",
          "height": 599
        },
        "id": "G5m4FjVN4rXB",
        "outputId": "04b16ebe-c54c-43ac-ea9d-898661d88bd9"
      },
      "execution_count": 41,
      "outputs": [
        {
          "output_type": "stream",
          "name": "stderr",
          "text": [
            "<ipython-input-41-3afd31dd97a9>:5: UserWarning: To copy construct from a tensor, it is recommended to use sourceTensor.clone().detach() or sourceTensor.clone().detach().requires_grad_(True), rather than torch.tensor(sourceTensor).\n",
            "  t_all = torch.tensor(X_train, dtype=torch.float32)\n"
          ]
        },
        {
          "output_type": "display_data",
          "data": {
            "text/plain": [
              "<Figure size 800x600 with 1 Axes>"
            ],
            "image/png": "[encoded data removed]"
          },
          "metadata": {}
        }
      ]
    }
  ],
  "metadata": {
    "colab": {
      "provenance": []
    },
    "kernelspec": {
      "display_name": "Python 3",
      "name": "python3"
    },
    "language_info": {
      "name": "python"
    }
  },
  "nbformat": 4,
  "nbformat_minor": 0
}